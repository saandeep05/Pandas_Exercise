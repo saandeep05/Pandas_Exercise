{
  "nbformat": 4,
  "nbformat_minor": 0,
  "metadata": {
    "colab": {
      "name": "Copy of Pandas Bootcamp Graded Hands-on Exercise.ipynb",
      "provenance": [],
      "collapsed_sections": []
    },
    "kernelspec": {
      "name": "python3",
      "display_name": "Python 3"
    },
    "language_info": {
      "name": "python"
    }
  },
  "cells": [
    {
      "cell_type": "markdown",
      "metadata": {
        "id": "Gvll069tUh4v"
      },
      "source": [
        "##Overview\n",
        "\n",
        "Dear Learner, \n",
        "\n",
        "Congratulations, you have studied Pandas all the way through the end of this bootcamp!!! This is the final graded hands-on exercise where you will be accomplishing the below mentioned task.\n",
        "\n",
        "For the tasks, we'll be using the COVID-19 Data Repository by the Center for Systems Science and Engineering (CSSE) at Johns Hopkins University. You can find the orginal dataset here: https://github.com/CSSEGISandData/COVID-19\n",
        "\n",
        "\n",
        "**Dataset Link**: https://raw.githubusercontent.com/dphi-official/Datasets/master/covid_19_data.csv\n",
        "\n",
        "**Resources**: You may consider referring to this resource while solving this project: https://www.learndatasci.com/tutorials/python-pandas-tutorial-complete-introduction-for-beginners/\n",
        "\n"
      ]
    },
    {
      "cell_type": "markdown",
      "metadata": {
        "id": "dvPOOlTFeejl"
      },
      "source": [
        "**Information about the dataset:**\n",
        "\n",
        "There are 8 features:\n",
        "\n",
        "* SNo: Serial number\n",
        "* ObservationDate: Date of observation of the cases (format: MM/DD/YYYY)\n",
        "* Province/State: Province or State of the country where cases were observed\n",
        "* Country/Region: Country where cases were observed\n",
        "* Last Update: Time in UTC at which the row is updated for the given province or country. (It is not in a standard format)\n",
        "* Confirmed: Cumulative number of confirmed cases till the date\n",
        "* Deaths: Cumulative number of deaths till the date\n",
        "* Recovered: Cumulative number of recovered cases till date"
      ]
    },
    {
      "cell_type": "markdown",
      "metadata": {
        "id": "A_JNx02DemVy"
      },
      "source": [
        "**Instruction for the learner:** \n",
        "* Recommended to revise 'groupby()' method of pandas\n",
        "* Recommended to understand the word **'Cummulative'** properly for three features - 'Confirmed', 'Recovered' and 'Deaths'.\n",
        "* Please note that the dtype of datetime columns are of object, convert them to datetime as shown below:"
      ]
    },
    {
      "cell_type": "markdown",
      "metadata": {
        "id": "GejbyYGQUrpN"
      },
      "source": [
        "###**Task 1**\n",
        "\n",
        "* Read the dataset and name is as `df`\n",
        "* Print first 10 observations of the dataset\n",
        "* Check for the data types of the all the variables in the dataset\n",
        "* Convert columns ['ObservationDate'] and ['Last Update'] to from object to datatime data type.\n"
      ]
    },
    {
      "cell_type": "code",
      "metadata": {
        "id": "EH30dqM0hg57",
        "colab": {
          "base_uri": "https://localhost:8080/"
        },
        "outputId": "a09682f7-d035-4826-b99d-d8e6a04e15c3"
      },
      "source": [
        "import pandas as pd\n",
        "\n",
        "df = pd.read_csv(\"https://raw.githubusercontent.com/dphi-official/Datasets/master/covid_19_data.csv\")\n",
        "print(df.iloc[:10])\n",
        "print(df.dtypes)\n",
        "# df.astype({'ObservationDate': 'datetime64', 'Last Update': 'datetime64'})\n",
        "df['ObservationDate'] = pd.to_datetime(df['ObservationDate'])\n",
        "df['Last Update'] = pd.to_datetime(df['Last Update'])"
      ],
      "execution_count": 7,
      "outputs": [
        {
          "output_type": "stream",
          "name": "stdout",
          "text": [
            "   SNo ObservationDate Province/State  ... Confirmed Deaths  Recovered\n",
            "0    1      01/22/2020          Anhui  ...       1.0    0.0        0.0\n",
            "1    2      01/22/2020        Beijing  ...      14.0    0.0        0.0\n",
            "2    3      01/22/2020      Chongqing  ...       6.0    0.0        0.0\n",
            "3    4      01/22/2020         Fujian  ...       1.0    0.0        0.0\n",
            "4    5      01/22/2020          Gansu  ...       0.0    0.0        0.0\n",
            "5    6      01/22/2020      Guangdong  ...      26.0    0.0        0.0\n",
            "6    7      01/22/2020        Guangxi  ...       2.0    0.0        0.0\n",
            "7    8      01/22/2020        Guizhou  ...       1.0    0.0        0.0\n",
            "8    9      01/22/2020         Hainan  ...       4.0    0.0        0.0\n",
            "9   10      01/22/2020          Hebei  ...       1.0    0.0        0.0\n",
            "\n",
            "[10 rows x 8 columns]\n",
            "SNo                  int64\n",
            "ObservationDate     object\n",
            "Province/State      object\n",
            "Country/Region      object\n",
            "Last Update         object\n",
            "Confirmed          float64\n",
            "Deaths             float64\n",
            "Recovered          float64\n",
            "dtype: object\n"
          ]
        }
      ]
    },
    {
      "cell_type": "markdown",
      "metadata": {
        "id": "9JfuOyUAWA6e"
      },
      "source": [
        "### **Task 2**\n",
        "* Create a subset of the data `df`, only taking observations which was **last updated** on **2020-06-13 03:33:14** and name this dataframe as **updated_data**. \n",
        "* Print the total no. of observations and unique country records in **updated_data**\n"
      ]
    },
    {
      "cell_type": "code",
      "metadata": {
        "id": "ikD6TFnshfHI",
        "colab": {
          "base_uri": "https://localhost:8080/"
        },
        "outputId": "859f87e7-510b-4bbd-899b-010cd28915e6"
      },
      "source": [
        "import pandas as pd\n",
        "\n",
        "updated_data = df[df['Last Update'] == '2020-06-13 03:33:14']\n",
        "print(updated_data.shape[0])  # total observations\n",
        "print(updated_data['Country/Region'].unique())"
      ],
      "execution_count": 9,
      "outputs": [
        {
          "output_type": "stream",
          "name": "stdout",
          "text": [
            "729\n",
            "['Afghanistan' 'Albania' 'Algeria' 'Andorra' 'Angola'\n",
            " 'Antigua and Barbuda' 'Argentina' 'Armenia' 'Austria' 'Azerbaijan'\n",
            " 'Bahamas' 'Bahrain' 'Bangladesh' 'Barbados' 'Belarus' 'Belgium' 'Belize'\n",
            " 'Benin' 'Bhutan' 'Bolivia' 'Bosnia and Herzegovina' 'Botswana' 'Brunei'\n",
            " 'Bulgaria' 'Burkina Faso' 'Burma' 'Burundi' 'Cabo Verde' 'Cambodia'\n",
            " 'Cameroon' 'Central African Republic' 'Chad' 'Comoros'\n",
            " 'Congo (Brazzaville)' 'Congo (Kinshasa)' 'Costa Rica' 'Croatia' 'Cuba'\n",
            " 'Cyprus' 'Czech Republic' 'Denmark' 'Diamond Princess' 'Djibouti'\n",
            " 'Dominica' 'Dominican Republic' 'Ecuador' 'Egypt' 'El Salvador'\n",
            " 'Equatorial Guinea' 'Eritrea' 'Estonia' 'Eswatini' 'Ethiopia' 'Fiji'\n",
            " 'Finland' 'France' 'Gabon' 'Gambia' 'Georgia' 'Ghana' 'Greece' 'Grenada'\n",
            " 'Guatemala' 'Guinea' 'Guinea-Bissau' 'Guyana' 'Haiti' 'Holy See'\n",
            " 'Honduras' 'Hungary' 'Iceland' 'Indonesia' 'Iran' 'Iraq' 'Ireland'\n",
            " 'Israel' 'Ivory Coast' 'Jamaica' 'Jordan' 'Kazakhstan' 'Kenya' 'Kosovo'\n",
            " 'Kuwait' 'Kyrgyzstan' 'Laos' 'Latvia' 'Lebanon' 'Lesotho' 'Liberia'\n",
            " 'Libya' 'Liechtenstein' 'Lithuania' 'Luxembourg' 'MS Zaandam'\n",
            " 'Madagascar' 'Malawi' 'Malaysia' 'Maldives' 'Mali' 'Malta' 'Mauritania'\n",
            " 'Mauritius' 'Moldova' 'Monaco' 'Mongolia' 'Montenegro' 'Morocco'\n",
            " 'Mozambique' 'Namibia' 'Nepal' 'Netherlands' 'New Zealand' 'Nicaragua'\n",
            " 'Niger' 'Nigeria' 'North Macedonia' 'Norway' 'Oman' 'Panama'\n",
            " 'Papua New Guinea' 'Paraguay' 'Philippines' 'Poland' 'Portugal' 'Qatar'\n",
            " 'Romania' 'Rwanda' 'Saint Kitts and Nevis' 'Saint Lucia'\n",
            " 'Saint Vincent and the Grenadines' 'San Marino' 'Sao Tome and Principe'\n",
            " 'Saudi Arabia' 'Senegal' 'Serbia' 'Seychelles' 'Sierra Leone' 'Singapore'\n",
            " 'Slovakia' 'Slovenia' 'Somalia' 'South Africa' 'South Korea'\n",
            " 'South Sudan' 'Sri Lanka' 'Sudan' 'Suriname' 'Switzerland' 'Syria'\n",
            " 'Taiwan' 'Tajikistan' 'Tanzania' 'Thailand' 'Timor-Leste' 'Togo'\n",
            " 'Trinidad and Tobago' 'Tunisia' 'Turkey' 'Uganda' 'United Arab Emirates'\n",
            " 'Uruguay' 'Uzbekistan' 'Venezuela' 'Vietnam' 'West Bank and Gaza'\n",
            " 'Western Sahara' 'Yemen' 'Zambia' 'Zimbabwe' 'Italy' 'Brazil' 'Russia'\n",
            " 'Mexico' 'Japan' 'US' 'Canada' 'Colombia' 'Peru' 'Spain' 'India' 'UK'\n",
            " 'Mainland China' 'Chile' 'Australia' 'Pakistan' 'Germany' 'Sweden'\n",
            " 'Ukraine' 'Hong Kong' 'Macau']\n"
          ]
        }
      ]
    },
    {
      "cell_type": "markdown",
      "metadata": {
        "id": "Sdcu_ll4WRCz"
      },
      "source": [
        "### **Task 3**\n",
        "* Create a subset of data from the dataframe **updated_data**, only taking the top 10 countries which have the maximum number of confirmed cases with features - **'Country/Region', 'Confirmed', 'Deaths' and 'Recovered'**. Name this dataframe as 'top_10'\n",
        "\n",
        "* print the name of the countries in 'top_10' dataset\n",
        "* Which country has the lowest number of confirmed cases among the ten countries in top_10 dataframe?\n",
        "Hint: use groupby() to group all the observations with same country, sum all the observations and then sort the dataframe by confirmed cases."
      ]
    },
    {
      "cell_type": "code",
      "metadata": {
        "id": "v05a3Zt-ht16",
        "colab": {
          "base_uri": "https://localhost:8080/"
        },
        "outputId": "dd957253-a12d-42ac-8e84-28d13ef53342"
      },
      "source": [
        "import pandas as pd\n",
        "\n",
        "top_10 = updated_data.sort_values(by='Confirmed', ascending=False).head(10).loc[:, ['Country/Region', 'Confirmed', 'Deaths', 'Recovered']]\n",
        "# print(top_10)\n",
        "print(top_10['Country/Region'])\n",
        "print(top_10[top_10['Confirmed'] == top_10['Confirmed'].min()]['Country/Region'])"
      ],
      "execution_count": 12,
      "outputs": [
        {
          "output_type": "stream",
          "name": "stdout",
          "text": [
            "40577        US\n",
            "40556    Russia\n",
            "40131    France\n",
            "40148      Iran\n",
            "40233    Turkey\n",
            "40678    Brazil\n",
            "40574        US\n",
            "40377        UK\n",
            "40320        US\n",
            "40437        US\n",
            "Name: Country/Region, dtype: object\n",
            "40437    US\n",
            "Name: Country/Region, dtype: object\n"
          ]
        }
      ]
    },
    {
      "cell_type": "markdown",
      "metadata": {
        "id": "nhfzHXPFWd-s"
      },
      "source": [
        "### **Task 4**\n",
        "* Add two columns in 'top_10' dataframe - 'Recovered_percentage' and 'Deaths_percentage' \n",
        "\n",
        "where\n",
        "\n",
        "'Recovered_percentage' = (Recovered cases / Confirmed cases) * 100\n",
        "\n",
        "'Death_percentage' = (Deaths cases / Confirmed cases) * 100\n",
        "\n",
        "* Print the top 3 countries with highest recovery precent"
      ]
    },
    {
      "cell_type": "code",
      "metadata": {
        "id": "elsb6VVgh3Pz",
        "colab": {
          "base_uri": "https://localhost:8080/"
        },
        "outputId": "ac52f26a-31ad-4dad-b162-e7ea9ae91207"
      },
      "source": [
        "import pandas as pd\n",
        "\n",
        "top_10['Recovered Percentage'] = (top_10['Recovered']/top_10['Confirmed'])*100\n",
        "top_10['Death Percentage'] = (top_10['Deaths']/top_10['Confirmed'])*100\n",
        "print(top_10.sort_values(by='Recovered Percentage', ascending=False, inplace=False)['Country/Region'].head(3))"
      ],
      "execution_count": 13,
      "outputs": [
        {
          "output_type": "stream",
          "name": "stdout",
          "text": [
            "40233    Turkey\n",
            "40148      Iran\n",
            "40556    Russia\n",
            "Name: Country/Region, dtype: object\n"
          ]
        }
      ]
    },
    {
      "cell_type": "markdown",
      "metadata": {
        "id": "M59pRLv58MoO"
      },
      "source": [
        "##**Scores**\n",
        "\n",
        "Each of the tasks is of 5 mark each and the scores will be given accordingly after the notebook review."
      ]
    }
  ]
}